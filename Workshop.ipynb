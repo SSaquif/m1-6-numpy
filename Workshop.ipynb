{
 "cells": [
  {
   "cell_type": "markdown",
   "metadata": {},
   "source": [
    "## Name : Sadnan Saquif\n",
    "## Handle: SSaquif"
   ]
  },
  {
   "cell_type": "markdown",
   "metadata": {},
   "source": [
    "## 1. What is the Average Height of US Presidents?\n",
    "\n",
    "Aggregates available in NumPy can be extremely useful for summarizing a set of values.\n",
    "As a simple example, let's consider the heights of all US presidents.\n",
    "\n",
    "This data is available in the file *president_heights.csv*, which is a simple comma-separated list of labels and values.\n",
    "\n",
    "Find the mean height, the standard deviation of height, and the president who is the smallest and tallest.\n",
    "\n",
    "You can use `pandas` to read in the file if you want, then cast the column to a `np.array`"
   ]
  },
  {
   "cell_type": "code",
   "execution_count": 1,
   "metadata": {},
   "outputs": [
    {
     "name": "stdout",
     "output_type": "stream",
     "text": [
      "Mean Height: 179.74\n",
      "Standard Dev: 6.93\n",
      "Shortest: James Madison, 163\n",
      "Tallest: Abraham Lincoln, 193\n"
     ]
    }
   ],
   "source": [
    "import numpy as np\n",
    "import pandas as pd\n",
    "\n",
    "df = pd.read_csv(\"./data/president_heights.csv\")\n",
    "\n",
    "names = df['name'].to_numpy()\n",
    "heights = df['height(cm)'].to_numpy()\n",
    "# print(heights)\n",
    "\n",
    "mean = heights.mean()\n",
    "std = heights.std()\n",
    "\n",
    "minIndex = heights.argmin()\n",
    "maxIndex = heights.argmax()\n",
    "\n",
    "print(f\"Mean Height: {round(mean,2)}\")\n",
    "print(f\"Standard Dev: {round(std,2)}\")\n",
    "print(f\"Shortest: {names[minIndex]}, {heights[minIndex]}\")\n",
    "print(f\"Tallest: {names[maxIndex]}, {heights[maxIndex]}\")"
   ]
  },
  {
   "cell_type": "markdown",
   "metadata": {},
   "source": [
    "# Exercise 2\n",
    "\n",
    "Recall the polynomial formula\n",
    "\n",
    "$$\n",
    "p(x) = a_0 + a_1 x + a_2 x^2 + \\cdots a_N x^N = \\sum_{n=0}^N a_n x^n \\tag{1}\n",
    "$$\n",
    "\n",
    "In the **math functions workshop**, you wrote a simple function `p(x, coeff)` to evaluate it without thinking about efficiency.\n",
    "\n",
    "Now write a new function that does the same job, but uses NumPy arrays and array operations for its computations, rather than any form of Python loop.\n",
    "\n",
    "(This is already implemented in `np.poly1d`, but use that only to test your function)\n",
    "\n",
    "- Hint: Use `np.cumprod()`  \n"
   ]
  },
  {
   "cell_type": "code",
   "execution_count": 2,
   "metadata": {},
   "outputs": [
    {
     "name": "stdout",
     "output_type": "stream",
     "text": [
      "6\n",
      "32\n"
     ]
    }
   ],
   "source": [
    "def p(x,coeff_list):\n",
    "    polynomial = np.array([coeff*(x**i) for i, coeff in enumerate(coeff_list)])\n",
    "    res = np.cumsum(polynomial)\n",
    "    return res[-1]\n",
    "    \n",
    "print(p(5, [1, 1]))\n",
    "print(p(5, [2, 1, 1]))"
   ]
  },
  {
   "cell_type": "markdown",
   "metadata": {},
   "source": [
    "## Exercise 3 Softmax\n",
    "\n",
    "Read in `data/iris.csv` and compute the [softmax]() of the **sepal length**. The formula for the softmax function $\\sigma(x)$ for a vector $x = \\{x_0, x_1, ..., x_{n-1}\\}$ is\n",
    "    .$$\\sigma(x)_j = \\frac{e^{x_j}}{\\sum_k e^{x_k}}$$\n",
    "\n",
    "\n",
    "Your result should be equal to the output of `scipy.special.softmax`\n",
    "\n",
    "### Resources\n",
    "[softmax](https://www.youtube.com/watch?v=8ps_JEW42xs)"
   ]
  },
  {
   "cell_type": "code",
   "execution_count": 3,
   "metadata": {},
   "outputs": [
    {
     "name": "stdout",
     "output_type": "stream",
     "text": [
      "[0.00221959 0.00181724 0.00148783 0.00134625 0.00200836 0.00299613\n",
      " 0.00134625 0.00200836 0.00110221 0.00181724 0.00299613 0.00164431\n",
      " 0.00164431 0.00099732 0.0044697  0.00404435 0.00299613 0.00221959\n",
      " 0.00404435 0.00221959 0.00299613 0.00221959 0.00134625 0.00221959\n",
      " 0.00164431 0.00200836 0.00200836 0.00245302 0.00245302 0.00148783\n",
      " 0.00164431 0.00299613 0.00245302 0.00331123 0.00181724 0.00200836\n",
      " 0.00331123 0.00181724 0.00110221 0.00221959 0.00200836 0.00121813\n",
      " 0.00110221 0.00200836 0.00221959 0.00164431 0.00221959 0.00134625\n",
      " 0.00271101 0.00200836 0.01483991 0.00814432 0.01342771 0.00331123\n",
      " 0.00900086 0.00404435 0.00736928 0.00181724 0.00994749 0.00245302\n",
      " 0.00200836 0.00493978 0.0054593  0.00603346 0.00365948 0.01099368\n",
      " 0.00365948 0.0044697  0.006668   0.00365948 0.00493978 0.00603346\n",
      " 0.00736928 0.00603346 0.00814432 0.00994749 0.01214989 0.01099368\n",
      " 0.0054593  0.00404435 0.00331123 0.00331123 0.0044697  0.0054593\n",
      " 0.00299613 0.0054593  0.01099368 0.00736928 0.00365948 0.00331123\n",
      " 0.00331123 0.00603346 0.0044697  0.00200836 0.00365948 0.00404435\n",
      " 0.00404435 0.006668   0.00221959 0.00404435 0.00736928 0.0044697\n",
      " 0.01640064 0.00736928 0.00900086 0.02704008 0.00181724 0.02003179\n",
      " 0.01099368 0.01812551 0.00900086 0.00814432 0.01214989 0.00404435\n",
      " 0.0044697  0.00814432 0.00900086 0.02988391 0.02988391 0.0054593\n",
      " 0.01342771 0.00365948 0.02988391 0.00736928 0.01099368 0.01812551\n",
      " 0.006668   0.00603346 0.00814432 0.01812551 0.02213855 0.0365003\n",
      " 0.00814432 0.00736928 0.00603346 0.02988391 0.00736928 0.00814432\n",
      " 0.0054593  0.01342771 0.01099368 0.01342771 0.0044697  0.01214989\n",
      " 0.01099368 0.01099368 0.00736928 0.00900086 0.006668   0.00493978]\n"
     ]
    }
   ],
   "source": [
    "def softmax(x):\n",
    "    numer = np.exp(x)\n",
    "    denom = np.sum(numer)\n",
    "    softmax = numer/denom\n",
    "    return softmax\n",
    "\n",
    "df = pd.read_csv('./data/iris.csv')\n",
    "sepal_lengths = df['sepallength'].to_numpy()\n",
    "print(softmax(sepal_lengths))"
   ]
  },
  {
   "cell_type": "code",
   "execution_count": 4,
   "metadata": {},
   "outputs": [
    {
     "name": "stdout",
     "output_type": "stream",
     "text": [
      "[0.00221959 0.00181724 0.00148783 0.00134625 0.00200836 0.00299613\n",
      " 0.00134625 0.00200836 0.00110221 0.00181724 0.00299613 0.00164431\n",
      " 0.00164431 0.00099732 0.0044697  0.00404435 0.00299613 0.00221959\n",
      " 0.00404435 0.00221959 0.00299613 0.00221959 0.00134625 0.00221959\n",
      " 0.00164431 0.00200836 0.00200836 0.00245302 0.00245302 0.00148783\n",
      " 0.00164431 0.00299613 0.00245302 0.00331123 0.00181724 0.00200836\n",
      " 0.00331123 0.00181724 0.00110221 0.00221959 0.00200836 0.00121813\n",
      " 0.00110221 0.00200836 0.00221959 0.00164431 0.00221959 0.00134625\n",
      " 0.00271101 0.00200836 0.01483991 0.00814432 0.01342771 0.00331123\n",
      " 0.00900086 0.00404435 0.00736928 0.00181724 0.00994749 0.00245302\n",
      " 0.00200836 0.00493978 0.0054593  0.00603346 0.00365948 0.01099368\n",
      " 0.00365948 0.0044697  0.006668   0.00365948 0.00493978 0.00603346\n",
      " 0.00736928 0.00603346 0.00814432 0.00994749 0.01214989 0.01099368\n",
      " 0.0054593  0.00404435 0.00331123 0.00331123 0.0044697  0.0054593\n",
      " 0.00299613 0.0054593  0.01099368 0.00736928 0.00365948 0.00331123\n",
      " 0.00331123 0.00603346 0.0044697  0.00200836 0.00365948 0.00404435\n",
      " 0.00404435 0.006668   0.00221959 0.00404435 0.00736928 0.0044697\n",
      " 0.01640064 0.00736928 0.00900086 0.02704008 0.00181724 0.02003179\n",
      " 0.01099368 0.01812551 0.00900086 0.00814432 0.01214989 0.00404435\n",
      " 0.0044697  0.00814432 0.00900086 0.02988391 0.02988391 0.0054593\n",
      " 0.01342771 0.00365948 0.02988391 0.00736928 0.01099368 0.01812551\n",
      " 0.006668   0.00603346 0.00814432 0.01812551 0.02213855 0.0365003\n",
      " 0.00814432 0.00736928 0.00603346 0.02988391 0.00736928 0.00814432\n",
      " 0.0054593  0.01342771 0.01099368 0.01342771 0.0044697  0.01214989\n",
      " 0.01099368 0.01099368 0.00736928 0.00900086 0.006668   0.00493978]\n"
     ]
    }
   ],
   "source": [
    "# Test\n",
    "from scipy.special import softmax as scipy_softmax\n",
    "\n",
    "print(scipy_softmax(sepal_lengths))"
   ]
  },
  {
   "cell_type": "markdown",
   "metadata": {},
   "source": [
    "## Exercise 4: unique counts\n",
    "\n",
    "\n",
    "Compute the counts of unique values row-wise.\n",
    "\n",
    "Input:\n",
    "```\n",
    "np.random.seed(100)\n",
    "arr = np.random.randint(1,11,size=(6, 10))\n",
    "arr\n",
    "> array([[ 9,  9,  4,  8,  8,  1,  5,  3,  6,  3],\n",
    ">        [ 3,  3,  2,  1,  9,  5,  1, 10,  7,  3],\n",
    ">        [ 5,  2,  6,  4,  5,  5,  4,  8,  2,  2],\n",
    ">        [ 8,  8,  1,  3, 10, 10,  4,  3,  6,  9],\n",
    ">        [ 2,  1,  8,  7,  3,  1,  9,  3,  6,  2],\n",
    ">        [ 9,  2,  6,  5,  3,  9,  4,  6,  1, 10]])\n",
    "```\n",
    "Desired Output:\n",
    "```\n",
    "> [[1, 0, 2, 1, 1, 1, 0, 2, 2, 0],\n",
    ">  [2, 1, 3, 0, 1, 0, 1, 0, 1, 1],\n",
    ">  [0, 3, 0, 2, 3, 1, 0, 1, 0, 0],\n",
    ">  [1, 0, 2, 1, 0, 1, 0, 2, 1, 2],\n",
    ">  [2, 2, 2, 0, 0, 1, 1, 1, 1, 0],\n",
    ">  [1, 1, 1, 1, 1, 2, 0, 0, 2, 1]]\n",
    "```\n",
    "Output contains 10 columns representing numbers from 1 to 10. The values are the counts of the numbers in the respective rows.\n",
    "For example, Cell(0,2) has the value 2, which means, the number 3 occurs exactly 2 times in the 1st row."
   ]
  },
  {
   "cell_type": "code",
   "execution_count": 5,
   "metadata": {},
   "outputs": [
    {
     "name": "stdout",
     "output_type": "stream",
     "text": [
      "[[ 9  9  4  8  8  1  5  3  6  3]\n",
      " [ 3  3  2  1  9  5  1 10  7  3]\n",
      " [ 5  2  6  4  5  5  4  8  2  2]\n",
      " [ 8  8  1  3 10 10  4  3  6  9]\n",
      " [ 2  1  8  7  3  1  9  3  6  2]\n",
      " [ 9  2  6  5  3  9  4  6  1 10]]\n",
      "[[1 0 2 1 1 1 0 2 2 0]\n",
      " [2 1 3 0 1 0 1 0 1 1]\n",
      " [0 3 0 2 3 1 0 1 0 0]\n",
      " [1 0 2 1 0 1 0 2 1 2]\n",
      " [2 2 2 0 0 1 1 1 1 0]\n",
      " [1 1 1 1 1 2 0 0 2 1]]\n"
     ]
    }
   ],
   "source": [
    "def unique_counts(arr):\n",
    "    # rows == number of items in arr\n",
    "    # cols == max valued Integer in array\n",
    "    rows = len(arr)\n",
    "    cols = np.max(arr)\n",
    "    \n",
    "    # Initialized Output Matrix with all bits set to 0\n",
    "    matrix = np.full((rows,cols),0)\n",
    "    \n",
    "    for row_i, row in enumerate(arr):\n",
    "        numbers, counts = np.unique(row, return_counts=True)\n",
    "        \n",
    "        for i, num in enumerate(numbers):\n",
    "            col = num - 1\n",
    "            matrix[row_i, col] = counts[i]\n",
    "            \n",
    "    return matrix\n",
    "\n",
    "# Fixed Seed random array\n",
    "np.random.seed(100)\n",
    "arr = np.random.randint(1,11,size=(6, 10))\n",
    "print(arr)\n",
    "print(unique_counts(arr))"
   ]
  },
  {
   "cell_type": "markdown",
   "metadata": {},
   "source": [
    "## Exercise 5: One-Hot encodings\n",
    "\n",
    "Compute the one-hot encodings (AKA dummy binary variables) for each unique value in the array.\n",
    "\n",
    "Input:\n",
    "```\n",
    "np.random.seed(101) \n",
    "arr = np.random.randint(1,4, size=6)\n",
    "arr\n",
    "#> array([2, 3, 2, 2, 2, 1])\n",
    "```\n",
    "Output:\n",
    "```\n",
    "#> array([[ 0.,  1.,  0.],\n",
    "#>        [ 0.,  0.,  1.],\n",
    "#>        [ 0.,  1.,  0.],\n",
    "#>        [ 0.,  1.,  0.],\n",
    "#>        [ 0.,  1.,  0.],\n",
    "#>        [ 1.,  0.,  0.]])\n",
    "```"
   ]
  },
  {
   "cell_type": "code",
   "execution_count": 6,
   "metadata": {},
   "outputs": [
    {
     "name": "stdout",
     "output_type": "stream",
     "text": [
      "[2 3 2 2 2 1]\n",
      "[[0 1 0]\n",
      " [0 0 1]\n",
      " [0 1 0]\n",
      " [0 1 0]\n",
      " [0 1 0]\n",
      " [1 0 0]]\n",
      "\n",
      "\n",
      "[5 2 7 0 5 5]\n",
      "[[0 0 0 0 1 0 0]\n",
      " [0 1 0 0 0 0 0]\n",
      " [0 0 0 0 0 0 1]\n",
      " [0 0 0 0 0 0 0]\n",
      " [0 0 0 0 1 0 0]\n",
      " [0 0 0 0 1 0 0]]\n"
     ]
    }
   ],
   "source": [
    "# Assumption: Numbers in array are Integers >= 0\n",
    "\n",
    "def one_hot_enc(arr):\n",
    "    # rows == number of items in arr\n",
    "    # cols == max valued Integer in array\n",
    "    rows = len(arr)\n",
    "    cols = np.max(arr)\n",
    "    \n",
    "    # Bits Matrix initialized with all bits set to 0\n",
    "    matrix = np.full((rows,cols), 0)\n",
    "    \n",
    "    for i, num in enumerate(arr):\n",
    "        # If num is 0 dont change the row\n",
    "        if num != 0:\n",
    "            col = num - 1\n",
    "            matrix[i, col] = 1\n",
    "    return matrix\n",
    "\n",
    "# Test\n",
    "np.random.seed(101) \n",
    "arr = np.random.randint(1,4, size=6)\n",
    "print(arr)\n",
    "print(one_hot_enc(arr))\n",
    "print('\\n')\n",
    "np.random.seed(55) # Has a 0 in the array\n",
    "arr = np.random.randint(0,8, size=6)\n",
    "print(arr)\n",
    "print(one_hot_enc(arr))"
   ]
  },
  {
   "cell_type": "markdown",
   "metadata": {},
   "source": [
    "## Exercise 6\n",
    "\n",
    "Let `q` be a NumPy array of length `n` with `q.sum() == 1`.\n",
    "\n",
    "Suppose that `q` represents a [probability mass function](https://en.wikipedia.org/wiki/Probability_mass_function) over a statistical distribution. Recall that a distribution is an array of probabilities of events.\n",
    "\n",
    "We want to generate a discrete random variable $ x $ such that $ \\mathbb P\\{x = i\\} = q_i $.\n",
    "\n",
    "In other words, `x` takes values in `range(len(q))` and `x = i` with probability `q[i]`.\n",
    "\n",
    "The standard (inverse transform) algorithm is as follows:\n",
    "\n",
    "- Divide the unit interval $ [0, 1] $ into $ n $ subintervals $ I_0, I_1, \\ldots, I_{n-1} $ such that the length of $ I_i $ is $ q_i $.  \n",
    "- Draw a uniform random variable $ U $ on $ [0, 1] $ and return the $ i $ such that $ U \\in I_i $.  \n",
    "\n",
    "\n",
    "The probability of drawing $ i $ is the length of $ I_i $, which is equal to $ q_i $.\n",
    "\n",
    "We can implement the algorithm as follows\n",
    "\n",
    "```python\n",
    "from random import uniform\n",
    "\n",
    "def sample(q):\n",
    "    a = 0.0\n",
    "    U = uniform(0, 1)\n",
    "    for i in range(len(q)):\n",
    "        if a < U <= a + q[i]:\n",
    "            return i\n",
    "        a = a + q[i]\n",
    "```\n",
    "\n",
    "If you can’t see how this works, try thinking through the flow for a simple example, such as `q = [0.25, 0.75]`\n",
    "It helps to sketch the intervals on paper.\n",
    "\n",
    "**Your exercise is to speed it up using NumPy, avoiding explicit loops**\n",
    "\n",
    "- Hint: Use `np.searchsorted` and `np.cumsum`  \n",
    "\n",
    "\n",
    "If you can, implement the functionality as a class called `DiscreteRV`, where\n",
    "\n",
    "- the data for an instance of the class is the vector of probabilities `q`  \n",
    "- the class has a `draw()` method, which returns one draw according to the algorithm described above  \n",
    "\n",
    "\n",
    "If you can, write the method so that `draw(k)` returns `k` draws from `q`."
   ]
  },
  {
   "cell_type": "code",
   "execution_count": 7,
   "metadata": {},
   "outputs": [
    {
     "name": "stdout",
     "output_type": "stream",
     "text": [
      "q = [0.1 0.2 0.3 0.4 0.5 0.6]\n",
      "q sum = [0.1 0.3 0.6 1.  1.5 2.1]\n",
      "U = 0.2425227014980641\n"
     ]
    },
    {
     "data": {
      "text/plain": [
       "1"
      ]
     },
     "execution_count": 7,
     "metadata": {},
     "output_type": "execute_result"
    }
   ],
   "source": [
    "def sorted(q):\n",
    "    q = np.array(q)\n",
    "    print(f\"q = {q}\")\n",
    "    q_sum = np.cumsum(q)\n",
    "    print(f\"q sum = {q_sum}\")\n",
    "    U = np.random.uniform(0,1)\n",
    "    print(f\"U = {U}\")\n",
    "    return np.searchsorted(q_sum, U)\n",
    "\n",
    "sorted([0.1, 0.2, 0.3, 0.4, 0.5, 0.6])"
   ]
  },
  {
   "cell_type": "code",
   "execution_count": 8,
   "metadata": {},
   "outputs": [
    {
     "name": "stdout",
     "output_type": "stream",
     "text": [
      "q sum = [0.1 0.3 0.6 1.  1.5 2.1]\n",
      "U1 = 0.5311238298072531\n",
      "U2 = 0.2855442354647988\n",
      "U3 = 0.8626303770516396\n"
     ]
    },
    {
     "data": {
      "text/plain": [
       "[2, 1, 3]"
      ]
     },
     "execution_count": 8,
     "metadata": {},
     "output_type": "execute_result"
    }
   ],
   "source": [
    "class DiscreteRV():\n",
    "    def __init__(self, q=None):\n",
    "        try:\n",
    "            self.q = np.asarray(q)\n",
    "            self.q_sum = np.cumsum(self.q)\n",
    "        # NTS: Need to learn more about common exceptions\n",
    "        except:\n",
    "            raise Exception('Invalid')\n",
    "    \n",
    "    def draw(self, k=1):\n",
    "        # numpy  array of size k\n",
    "        draws = []\n",
    "        print(f\"q sum = {self.q_sum}\")\n",
    "        for i in range(k): \n",
    "            U = np.random.uniform(0,1)\n",
    "            print(f\"U{i+1} = {U}\")\n",
    "            draws.append(np.searchsorted(self.q_sum, U))\n",
    "            \n",
    "        return draws\n",
    "        \n",
    "DiscreteRV([0.1, 0.2, 0.3, 0.4, 0.5, 0.6]).draw(k=3)\n",
    "\n",
    "# Exception\n",
    "# DiscreteRV([{},[]])"
   ]
  },
  {
   "cell_type": "markdown",
   "metadata": {},
   "source": [
    "## Exercise 7 Peaks\n",
    "\n",
    "Find all the peaks in a 1D numpy array a. Peaks are points surrounded by smaller values on both sides.\n",
    "\n",
    "Input:\n",
    "```\n",
    "a = np.array([1, 3, 7, 1, 2, 6, 0, 1])\n",
    "```\n",
    "Desired Output:\n",
    "```\n",
    "#> array([2, 5])\n",
    "```\n",
    "where, 2 and 5 are the positions of peak values 7 and 6.\n",
    "\n",
    "### 1. Solve this usign a regular python for loop\n",
    "\n",
    "### 2. Solve this using no loops and only numpy functions"
   ]
  },
  {
   "cell_type": "code",
   "execution_count": 9,
   "metadata": {},
   "outputs": [
    {
     "data": {
      "text/plain": [
       "[2, 5]"
      ]
     },
     "execution_count": 9,
     "metadata": {},
     "output_type": "execute_result"
    }
   ],
   "source": [
    "# Assumption: The left of first num is last num, and right of last num is first num\n",
    "\n",
    "def peaks_version_0(arr):\n",
    "    peak_indices = []\n",
    "    for i , num in enumerate(arr):\n",
    "        # Circular Array\n",
    "        if num > arr[i-1] and num > arr[(i+1)%len(arr)]:\n",
    "            peak_indices.append(i)\n",
    "            \n",
    "    return peak_indices\n",
    "            \n",
    "a = np.array([1, 3, 7, 1, 2, 6, 0, 1])\n",
    "peaks_version_0(a)"
   ]
  },
  {
   "cell_type": "code",
   "execution_count": 10,
   "metadata": {},
   "outputs": [
    {
     "name": "stdout",
     "output_type": "stream",
     "text": [
      "[1 3 7 1 2 6 0 1]\n",
      "[3 7 1 2 6 0 1 1]\n",
      "[1 1 3 7 1 2 6 0]\n",
      "(array([2, 5]),)\n",
      "(array([1, 2, 4, 5, 7]),)\n",
      "[2 5]\n"
     ]
    },
    {
     "data": {
      "text/plain": [
       "array([2, 5])"
      ]
     },
     "execution_count": 10,
     "metadata": {},
     "output_type": "execute_result"
    }
   ],
   "source": [
    "def peaks(arr):\n",
    "    print(arr)\n",
    "    \n",
    "    left_shift = np.roll(arr, -1)\n",
    "    print(left_shift)\n",
    "\n",
    "    right_shift = np.roll(arr, 1)\n",
    "    print(right_shift)\n",
    "\n",
    "    right_peak_indices = np.where(arr > left_shift)\n",
    "    print(right_peak_indices)\n",
    "\n",
    "    left_peak_indices = np.where(arr > right_shift) \n",
    "    print(left_peak_indices)\n",
    "\n",
    "    peak_indices = np.intersect1d(right_peak_indices, left_peak_indices)\n",
    "    print(peak_indices)\n",
    "    \n",
    "    return peak_indices\n",
    "\n",
    "a = np.array([1, 3, 7, 1, 2, 6, 0, 1])\n",
    "peaks(a)"
   ]
  },
  {
   "cell_type": "markdown",
   "metadata": {},
   "source": [
    "# In Class Exercises, Big O"
   ]
  },
  {
   "cell_type": "code",
   "execution_count": 11,
   "metadata": {},
   "outputs": [
    {
     "name": "stdout",
     "output_type": "stream",
     "text": [
      "[0, 1, 1]\n",
      "[0, 1, 1, 2]\n",
      "[0, 1, 1, 2, 3]\n",
      "[0, 1, 1, 2, 3, 5]\n",
      "[0, 1, 1, 2, 3, 5, 8]\n",
      "[0, 1, 1, 2, 3, 5, 8, 13]\n",
      "[0, 1, 1, 2, 3, 5, 8, 13, 21]\n",
      "[0, 1, 1, 2, 3, 5, 8, 13, 21, 34]\n"
     ]
    },
    {
     "data": {
      "text/plain": [
       "34"
      ]
     },
     "execution_count": 11,
     "metadata": {},
     "output_type": "execute_result"
    }
   ],
   "source": [
    "def fib(n):\n",
    "    if n < 2:\n",
    "        return n\n",
    "    return fib(n-1) + fib(n-2)\n",
    "\n",
    "fib(9)\n",
    "\n",
    "def fib(n):\n",
    "    fibArr = [0,1]\n",
    "    \n",
    "    for i in range(2,n+1):\n",
    "        x = fibArr[i-1]\n",
    "        y = fibArr[i-2]\n",
    "        fibArr.append(x+y)\n",
    "        print(fibArr)\n",
    "    \n",
    "    return fibArr[n]\n",
    "fib(9)"
   ]
  },
  {
   "cell_type": "code",
   "execution_count": 12,
   "metadata": {},
   "outputs": [
    {
     "name": "stdout",
     "output_type": "stream",
     "text": [
      "[10] [-1]\n",
      "10 -1\n",
      "[-1]\n",
      "[-1, 10]\n",
      "[2] [5]\n",
      "2 5\n",
      "[2]\n",
      "[2, 5]\n",
      "[-1, 10] [2, 5]\n",
      "-1 2\n",
      "[-1]\n",
      "10 2\n",
      "[-1, 2]\n",
      "10 5\n",
      "[-1, 2, 5]\n",
      "[-1, 2, 5, 10]\n",
      "[0] [6]\n",
      "0 6\n",
      "[0]\n",
      "[0, 6]\n",
      "[4] [-5]\n",
      "4 -5\n",
      "[-5]\n",
      "[-5, 4]\n",
      "[0, 6] [-5, 4]\n",
      "0 -5\n",
      "[-5]\n",
      "0 4\n",
      "[-5, 0]\n",
      "6 4\n",
      "[-5, 0, 4]\n",
      "[-5, 0, 4, 6]\n",
      "[-1, 2, 5, 10] [-5, 0, 4, 6]\n",
      "-1 -5\n",
      "[-5]\n",
      "-1 0\n",
      "[-5, -1]\n",
      "2 0\n",
      "[-5, -1, 0]\n",
      "2 4\n",
      "[-5, -1, 0, 2]\n",
      "5 4\n",
      "[-5, -1, 0, 2, 4]\n",
      "5 6\n",
      "[-5, -1, 0, 2, 4, 5]\n",
      "10 6\n",
      "[-5, -1, 0, 2, 4, 5, 6]\n",
      "[-5, -1, 0, 2, 4, 5, 6, 10]\n"
     ]
    },
    {
     "data": {
      "text/plain": [
       "[-5, -1, 0, 2, 4, 5, 6, 10]"
      ]
     },
     "execution_count": 12,
     "metadata": {},
     "output_type": "execute_result"
    }
   ],
   "source": [
    "def merge_sort(a):\n",
    "    size = len(a)\n",
    "    if size > 1:\n",
    "        middle = size//2\n",
    "        \n",
    "#         print(f\"l {a[0:middle]}\")\n",
    "#         print(f\"r {a[middle:]}\")\n",
    "        \n",
    "        left = merge_sort(a[0:middle])\n",
    "        right = merge_sort(a[middle:])\n",
    "        \n",
    "        return merge(left,right)\n",
    "    \n",
    "    else:\n",
    "        return a\n",
    "    \n",
    "def merge(left,right):\n",
    "    left = left.copy()\n",
    "    right = right.copy()\n",
    "    resArr = []\n",
    "    leftIndex = 0\n",
    "    rightIndex = 0\n",
    "    print(left, right)\n",
    "    \n",
    "    while(leftIndex < len(left) and rightIndex < len(right)):\n",
    "        print(left[leftIndex] , right[rightIndex])\n",
    "        if(left[leftIndex] < right[rightIndex]):\n",
    "            resArr.append(left[leftIndex])\n",
    "            leftIndex += 1\n",
    "        else:\n",
    "            resArr.append(right[rightIndex])\n",
    "            rightIndex += 1\n",
    "        print(resArr)\n",
    "     \n",
    "    resArr = resArr + right[rightIndex:] + left[leftIndex:]\n",
    "    print(resArr)\n",
    "    \n",
    "#     print(f\"right {right}\")\n",
    "#     print(f\"left {left}\")\n",
    "#     print(f\"resA {resArr}\")\n",
    "    \n",
    "    return resArr\n",
    "\n",
    "merge_sort([10, -1, 2, 5, 0, 6, 4, -5])"
   ]
  }
 ],
 "metadata": {
  "date": 1597540028.6350708,
  "filename": "numpy.rst",
  "kernelspec": {
   "display_name": "Python 3",
   "language": "python",
   "name": "python3"
  },
  "language_info": {
   "codemirror_mode": {
    "name": "ipython",
    "version": 3
   },
   "file_extension": ".py",
   "mimetype": "text/x-python",
   "name": "python",
   "nbconvert_exporter": "python",
   "pygments_lexer": "ipython3",
   "version": "3.8.3"
  },
  "next_doc": {
   "link": "matplotlib",
   "title": "Matplotlib"
  },
  "prev_doc": {
   "link": "need_for_speed",
   "title": "Python for Scientific Computing"
  },
  "title": "NumPy"
 },
 "nbformat": 4,
 "nbformat_minor": 2
}
